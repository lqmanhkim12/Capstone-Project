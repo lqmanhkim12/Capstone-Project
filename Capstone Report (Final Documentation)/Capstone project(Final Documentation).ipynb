{
 "cells": [
  {
   "cell_type": "markdown",
   "id": "4b5a0e1d",
   "metadata": {},
   "source": [
    "# Executive Summary"
   ]
  },
  {
   "cell_type": "markdown",
   "id": "a59f6667",
   "metadata": {},
   "source": [
    "### Goals"
   ]
  },
  {
   "cell_type": "markdown",
   "id": "d410ed54",
   "metadata": {},
   "source": [
    "- Find models that can predict whether a patient has a mental health problem by looking at their recent activities."
   ]
  },
  {
   "cell_type": "markdown",
   "id": "31d30249",
   "metadata": {},
   "source": [
    "### Data Origin"
   ]
  },
  {
   "cell_type": "markdown",
   "id": "a48e6ab5",
   "metadata": {},
   "source": [
    "- Data is taken and downloaded from a website called Kaggle"
   ]
  },
  {
   "cell_type": "markdown",
   "id": "e70bff0d",
   "metadata": {},
   "source": [
    "### Metrics"
   ]
  },
  {
   "cell_type": "markdown",
   "id": "e219a2ea",
   "metadata": {},
   "source": [
    "- To get the the accuracy of the models as high as possible preferably more than 98%"
   ]
  },
  {
   "cell_type": "markdown",
   "id": "7217c3a7",
   "metadata": {},
   "source": [
    "### Finding"
   ]
  },
  {
   "cell_type": "markdown",
   "id": "69dcd0d9",
   "metadata": {},
   "source": [
    "- The most optimum models is random forest surpassing other models with the excellent accuracy of 98.5% with neglibile overfitting"
   ]
  },
  {
   "cell_type": "markdown",
   "id": "7fe9b278",
   "metadata": {},
   "source": [
    "- The best hyperparameter of the random forest model based on the availaible hyperparameter is max depth of 10 and n estimator of 100."
   ]
  },
  {
   "cell_type": "markdown",
   "id": "666307b9",
   "metadata": {},
   "source": [
    "### Risk /limitation / Assumption"
   ]
  },
  {
   "cell_type": "markdown",
   "id": "d5df5faa",
   "metadata": {},
   "source": [
    "#### Risk\n",
    "-It might has technical risk such as scalability since the data file is relatively large.\n",
    "- It might have sampling bias.\n",
    "#### Assumptions.\n",
    "-The data is consistent.\n",
    "-That the feature selected and provided is relevance target variable\n"
   ]
  },
  {
   "cell_type": "markdown",
   "id": "29199ff5",
   "metadata": {},
   "source": [
    "# Statistical Analysis Summary"
   ]
  },
  {
   "cell_type": "markdown",
   "id": "9b020fd5",
   "metadata": {},
   "source": [
    "### Implementation"
   ]
  },
  {
   "cell_type": "markdown",
   "id": "8aa155ef",
   "metadata": {},
   "source": [
    "#### EDA\n",
    "The data is a classification type data with its target variable being categorical. After uncovering the distribution of the target variable, It is discovered that that the data is a multi-class classification type data which consist of ‘Yes’ , ‘No’ and ‘Maybe’. There are a decent amount of missing value in the dataset and all of it seems to be data about whether the person is in a self-employement or not. Through EDA I have discoveed that instead of doing the normal classification , I need to do a multi-class classification ways of modeling which require a tweak and adjustment on the modeling which difer from usual. The EDA  is probably already fully completed if I didn’t make any mistake.\n",
    "\n",
    "#### Modeling\n",
    "I have already begun my modeling process. At first I started with logistic regression model thinking that this model is the most suitable for this project. However, after fitting the model and doing evaluation , the accuracy of the model is only a meagre 0.355 which is abysmal for something like my project. Thus I switch to a different model called Random Forest. After fiting and evaluating the model , the accuracy of Random Forest  is as high as 0.976 which is more preferable. It is noted that this is maybe not the most optimal perfomance as it has not done any hyperparameter tuning and bootstraping and doing this may increase the perfomance more in the future.\n",
    "\n",
    "After that , I started implementing gridsearch on several model which are LogisticRegression,RidgeClassifier , KNN , DecisionTree , RandomForest in order to find the best model for my goals and the optimum hyperparameter."
   ]
  },
  {
   "cell_type": "markdown",
   "id": "1397b9bc",
   "metadata": {},
   "source": [
    "### Evaluation"
   ]
  },
  {
   "cell_type": "markdown",
   "id": "6ff3efda",
   "metadata": {},
   "source": [
    "After a lengthy wait of the modelling proccess , this is the summary of the model perfomance"
   ]
  },
  {
   "cell_type": "markdown",
   "id": "e94e291a",
   "metadata": {},
   "source": [
    "LogisticRegression\n",
    "\n",
    "Accuracy Score : 0.36\n",
    "\n",
    "RidgeClassifier\n",
    "\n",
    "Accuracy Score: 0.41\n",
    "\n",
    "KNN\n",
    "\n",
    "Accuracy Score:0.33\n",
    "\n",
    "DecisionTree\n",
    "\n",
    "Accuracy Score: 0.98\n",
    "    \n",
    "RandomForest\n",
    "\n",
    "Accuracy Score : 0.98"
   ]
  },
  {
   "cell_type": "markdown",
   "id": "9da15997",
   "metadata": {},
   "source": [
    "# Modeling and Coding"
   ]
  },
  {
   "cell_type": "code",
   "execution_count": 1,
   "id": "3065eb7d",
   "metadata": {},
   "outputs": [],
   "source": [
    "import pandas as pd\n",
    "\n",
    "from sklearn.model_selection import train_test_split\n",
    "\n",
    "from sklearn.linear_model import LogisticRegression\n",
    "from sklearn.preprocessing import OneHotEncoder\n",
    "from sklearn.preprocessing import LabelEncoder\n",
    "from sklearn.model_selection import cross_val_score\n",
    "from sklearn.metrics import accuracy_score, classification_report\n",
    "from sklearn.model_selection import GridSearchCV\n",
    "from sklearn.linear_model import LogisticRegression, RidgeClassifier\n",
    "from sklearn.pipeline import Pipeline\n",
    "\n",
    "from sklearn.ensemble import RandomForestClassifier\n",
    "from sklearn.neighbors import KNeighborsClassifier\n",
    "from sklearn.tree import DecisionTreeClassifier\n",
    "from sklearn.svm import SVC"
   ]
  },
  {
   "cell_type": "code",
   "execution_count": 2,
   "id": "23115ce5",
   "metadata": {},
   "outputs": [],
   "source": [
    "df = pd.read_csv('Mental Health Dataset.csv')"
   ]
  },
  {
   "cell_type": "code",
   "execution_count": 3,
   "id": "a8172c56",
   "metadata": {},
   "outputs": [
    {
     "data": {
      "text/html": [
       "<div>\n",
       "<style scoped>\n",
       "    .dataframe tbody tr th:only-of-type {\n",
       "        vertical-align: middle;\n",
       "    }\n",
       "\n",
       "    .dataframe tbody tr th {\n",
       "        vertical-align: top;\n",
       "    }\n",
       "\n",
       "    .dataframe thead th {\n",
       "        text-align: right;\n",
       "    }\n",
       "</style>\n",
       "<table border=\"1\" class=\"dataframe\">\n",
       "  <thead>\n",
       "    <tr style=\"text-align: right;\">\n",
       "      <th></th>\n",
       "      <th>Timestamp</th>\n",
       "      <th>Gender</th>\n",
       "      <th>Country</th>\n",
       "      <th>Occupation</th>\n",
       "      <th>self_employed</th>\n",
       "      <th>family_history</th>\n",
       "      <th>treatment</th>\n",
       "      <th>Days_Indoors</th>\n",
       "      <th>Growing_Stress</th>\n",
       "      <th>Changes_Habits</th>\n",
       "      <th>Mental_Health_History</th>\n",
       "      <th>Mood_Swings</th>\n",
       "      <th>Coping_Struggles</th>\n",
       "      <th>Work_Interest</th>\n",
       "      <th>Social_Weakness</th>\n",
       "      <th>mental_health_interview</th>\n",
       "      <th>care_options</th>\n",
       "    </tr>\n",
       "  </thead>\n",
       "  <tbody>\n",
       "    <tr>\n",
       "      <th>0</th>\n",
       "      <td>2014-08-27 11:29:31</td>\n",
       "      <td>Female</td>\n",
       "      <td>United States</td>\n",
       "      <td>Corporate</td>\n",
       "      <td>NaN</td>\n",
       "      <td>No</td>\n",
       "      <td>Yes</td>\n",
       "      <td>1-14 days</td>\n",
       "      <td>Yes</td>\n",
       "      <td>No</td>\n",
       "      <td>Yes</td>\n",
       "      <td>Medium</td>\n",
       "      <td>No</td>\n",
       "      <td>No</td>\n",
       "      <td>Yes</td>\n",
       "      <td>No</td>\n",
       "      <td>Not sure</td>\n",
       "    </tr>\n",
       "    <tr>\n",
       "      <th>1</th>\n",
       "      <td>2014-08-27 11:31:50</td>\n",
       "      <td>Female</td>\n",
       "      <td>United States</td>\n",
       "      <td>Corporate</td>\n",
       "      <td>NaN</td>\n",
       "      <td>Yes</td>\n",
       "      <td>Yes</td>\n",
       "      <td>1-14 days</td>\n",
       "      <td>Yes</td>\n",
       "      <td>No</td>\n",
       "      <td>Yes</td>\n",
       "      <td>Medium</td>\n",
       "      <td>No</td>\n",
       "      <td>No</td>\n",
       "      <td>Yes</td>\n",
       "      <td>No</td>\n",
       "      <td>No</td>\n",
       "    </tr>\n",
       "    <tr>\n",
       "      <th>2</th>\n",
       "      <td>2014-08-27 11:32:39</td>\n",
       "      <td>Female</td>\n",
       "      <td>United States</td>\n",
       "      <td>Corporate</td>\n",
       "      <td>NaN</td>\n",
       "      <td>Yes</td>\n",
       "      <td>Yes</td>\n",
       "      <td>1-14 days</td>\n",
       "      <td>Yes</td>\n",
       "      <td>No</td>\n",
       "      <td>Yes</td>\n",
       "      <td>Medium</td>\n",
       "      <td>No</td>\n",
       "      <td>No</td>\n",
       "      <td>Yes</td>\n",
       "      <td>No</td>\n",
       "      <td>Yes</td>\n",
       "    </tr>\n",
       "    <tr>\n",
       "      <th>3</th>\n",
       "      <td>2014-08-27 11:37:59</td>\n",
       "      <td>Female</td>\n",
       "      <td>United States</td>\n",
       "      <td>Corporate</td>\n",
       "      <td>No</td>\n",
       "      <td>Yes</td>\n",
       "      <td>Yes</td>\n",
       "      <td>1-14 days</td>\n",
       "      <td>Yes</td>\n",
       "      <td>No</td>\n",
       "      <td>Yes</td>\n",
       "      <td>Medium</td>\n",
       "      <td>No</td>\n",
       "      <td>No</td>\n",
       "      <td>Yes</td>\n",
       "      <td>Maybe</td>\n",
       "      <td>Yes</td>\n",
       "    </tr>\n",
       "    <tr>\n",
       "      <th>4</th>\n",
       "      <td>2014-08-27 11:43:36</td>\n",
       "      <td>Female</td>\n",
       "      <td>United States</td>\n",
       "      <td>Corporate</td>\n",
       "      <td>No</td>\n",
       "      <td>Yes</td>\n",
       "      <td>Yes</td>\n",
       "      <td>1-14 days</td>\n",
       "      <td>Yes</td>\n",
       "      <td>No</td>\n",
       "      <td>Yes</td>\n",
       "      <td>Medium</td>\n",
       "      <td>No</td>\n",
       "      <td>No</td>\n",
       "      <td>Yes</td>\n",
       "      <td>No</td>\n",
       "      <td>Yes</td>\n",
       "    </tr>\n",
       "  </tbody>\n",
       "</table>\n",
       "</div>"
      ],
      "text/plain": [
       "             Timestamp  Gender        Country Occupation self_employed  \\\n",
       "0  2014-08-27 11:29:31  Female  United States  Corporate           NaN   \n",
       "1  2014-08-27 11:31:50  Female  United States  Corporate           NaN   \n",
       "2  2014-08-27 11:32:39  Female  United States  Corporate           NaN   \n",
       "3  2014-08-27 11:37:59  Female  United States  Corporate            No   \n",
       "4  2014-08-27 11:43:36  Female  United States  Corporate            No   \n",
       "\n",
       "  family_history treatment Days_Indoors Growing_Stress Changes_Habits  \\\n",
       "0             No       Yes    1-14 days            Yes             No   \n",
       "1            Yes       Yes    1-14 days            Yes             No   \n",
       "2            Yes       Yes    1-14 days            Yes             No   \n",
       "3            Yes       Yes    1-14 days            Yes             No   \n",
       "4            Yes       Yes    1-14 days            Yes             No   \n",
       "\n",
       "  Mental_Health_History Mood_Swings Coping_Struggles Work_Interest  \\\n",
       "0                   Yes      Medium               No            No   \n",
       "1                   Yes      Medium               No            No   \n",
       "2                   Yes      Medium               No            No   \n",
       "3                   Yes      Medium               No            No   \n",
       "4                   Yes      Medium               No            No   \n",
       "\n",
       "  Social_Weakness mental_health_interview care_options  \n",
       "0             Yes                      No     Not sure  \n",
       "1             Yes                      No           No  \n",
       "2             Yes                      No          Yes  \n",
       "3             Yes                   Maybe          Yes  \n",
       "4             Yes                      No          Yes  "
      ]
     },
     "execution_count": 3,
     "metadata": {},
     "output_type": "execute_result"
    }
   ],
   "source": [
    "df.head() # Reading the initial data"
   ]
  },
  {
   "cell_type": "markdown",
   "id": "faa1d5ed",
   "metadata": {},
   "source": [
    "# EDA and Data Preparation"
   ]
  },
  {
   "cell_type": "code",
   "execution_count": 4,
   "id": "3d4a5f2a",
   "metadata": {},
   "outputs": [
    {
     "data": {
      "text/plain": [
       "Timestamp                     0\n",
       "Gender                        0\n",
       "Country                       0\n",
       "Occupation                    0\n",
       "self_employed              5202\n",
       "family_history                0\n",
       "treatment                     0\n",
       "Days_Indoors                  0\n",
       "Growing_Stress                0\n",
       "Changes_Habits                0\n",
       "Mental_Health_History         0\n",
       "Mood_Swings                   0\n",
       "Coping_Struggles              0\n",
       "Work_Interest                 0\n",
       "Social_Weakness               0\n",
       "mental_health_interview       0\n",
       "care_options                  0\n",
       "dtype: int64"
      ]
     },
     "execution_count": 4,
     "metadata": {},
     "output_type": "execute_result"
    }
   ],
   "source": [
    "df.isnull().sum()# find missing value"
   ]
  },
  {
   "cell_type": "code",
   "execution_count": 5,
   "id": "f982bbb0",
   "metadata": {},
   "outputs": [],
   "source": [
    "df = df.dropna()"
   ]
  },
  {
   "cell_type": "code",
   "execution_count": 6,
   "id": "6b9dd7ad",
   "metadata": {},
   "outputs": [
    {
     "data": {
      "text/plain": [
       "Timestamp                  0\n",
       "Gender                     0\n",
       "Country                    0\n",
       "Occupation                 0\n",
       "self_employed              0\n",
       "family_history             0\n",
       "treatment                  0\n",
       "Days_Indoors               0\n",
       "Growing_Stress             0\n",
       "Changes_Habits             0\n",
       "Mental_Health_History      0\n",
       "Mood_Swings                0\n",
       "Coping_Struggles           0\n",
       "Work_Interest              0\n",
       "Social_Weakness            0\n",
       "mental_health_interview    0\n",
       "care_options               0\n",
       "dtype: int64"
      ]
     },
     "execution_count": 6,
     "metadata": {},
     "output_type": "execute_result"
    }
   ],
   "source": [
    "df.isnull().sum()"
   ]
  },
  {
   "cell_type": "code",
   "execution_count": 7,
   "id": "301fc347",
   "metadata": {},
   "outputs": [
    {
     "data": {
      "text/html": [
       "<div>\n",
       "<style scoped>\n",
       "    .dataframe tbody tr th:only-of-type {\n",
       "        vertical-align: middle;\n",
       "    }\n",
       "\n",
       "    .dataframe tbody tr th {\n",
       "        vertical-align: top;\n",
       "    }\n",
       "\n",
       "    .dataframe thead th {\n",
       "        text-align: right;\n",
       "    }\n",
       "</style>\n",
       "<table border=\"1\" class=\"dataframe\">\n",
       "  <thead>\n",
       "    <tr style=\"text-align: right;\">\n",
       "      <th></th>\n",
       "      <th>Timestamp</th>\n",
       "      <th>Gender</th>\n",
       "      <th>Country</th>\n",
       "      <th>Occupation</th>\n",
       "      <th>self_employed</th>\n",
       "      <th>family_history</th>\n",
       "      <th>treatment</th>\n",
       "      <th>Days_Indoors</th>\n",
       "      <th>Growing_Stress</th>\n",
       "      <th>Changes_Habits</th>\n",
       "      <th>Mental_Health_History</th>\n",
       "      <th>Mood_Swings</th>\n",
       "      <th>Coping_Struggles</th>\n",
       "      <th>Work_Interest</th>\n",
       "      <th>Social_Weakness</th>\n",
       "      <th>mental_health_interview</th>\n",
       "      <th>care_options</th>\n",
       "    </tr>\n",
       "  </thead>\n",
       "  <tbody>\n",
       "    <tr>\n",
       "      <th>3</th>\n",
       "      <td>2014-08-27 11:37:59</td>\n",
       "      <td>Female</td>\n",
       "      <td>United States</td>\n",
       "      <td>Corporate</td>\n",
       "      <td>No</td>\n",
       "      <td>Yes</td>\n",
       "      <td>Yes</td>\n",
       "      <td>1-14 days</td>\n",
       "      <td>Yes</td>\n",
       "      <td>No</td>\n",
       "      <td>Yes</td>\n",
       "      <td>Medium</td>\n",
       "      <td>No</td>\n",
       "      <td>No</td>\n",
       "      <td>Yes</td>\n",
       "      <td>Maybe</td>\n",
       "      <td>Yes</td>\n",
       "    </tr>\n",
       "    <tr>\n",
       "      <th>4</th>\n",
       "      <td>2014-08-27 11:43:36</td>\n",
       "      <td>Female</td>\n",
       "      <td>United States</td>\n",
       "      <td>Corporate</td>\n",
       "      <td>No</td>\n",
       "      <td>Yes</td>\n",
       "      <td>Yes</td>\n",
       "      <td>1-14 days</td>\n",
       "      <td>Yes</td>\n",
       "      <td>No</td>\n",
       "      <td>Yes</td>\n",
       "      <td>Medium</td>\n",
       "      <td>No</td>\n",
       "      <td>No</td>\n",
       "      <td>Yes</td>\n",
       "      <td>No</td>\n",
       "      <td>Yes</td>\n",
       "    </tr>\n",
       "    <tr>\n",
       "      <th>5</th>\n",
       "      <td>2014-08-27 11:49:51</td>\n",
       "      <td>Female</td>\n",
       "      <td>Poland</td>\n",
       "      <td>Corporate</td>\n",
       "      <td>No</td>\n",
       "      <td>No</td>\n",
       "      <td>Yes</td>\n",
       "      <td>1-14 days</td>\n",
       "      <td>Yes</td>\n",
       "      <td>No</td>\n",
       "      <td>Yes</td>\n",
       "      <td>Medium</td>\n",
       "      <td>No</td>\n",
       "      <td>No</td>\n",
       "      <td>Yes</td>\n",
       "      <td>Maybe</td>\n",
       "      <td>Not sure</td>\n",
       "    </tr>\n",
       "    <tr>\n",
       "      <th>6</th>\n",
       "      <td>2014-08-27 11:51:34</td>\n",
       "      <td>Female</td>\n",
       "      <td>Australia</td>\n",
       "      <td>Corporate</td>\n",
       "      <td>No</td>\n",
       "      <td>Yes</td>\n",
       "      <td>Yes</td>\n",
       "      <td>1-14 days</td>\n",
       "      <td>Yes</td>\n",
       "      <td>No</td>\n",
       "      <td>Yes</td>\n",
       "      <td>Medium</td>\n",
       "      <td>No</td>\n",
       "      <td>No</td>\n",
       "      <td>Yes</td>\n",
       "      <td>No</td>\n",
       "      <td>Not sure</td>\n",
       "    </tr>\n",
       "    <tr>\n",
       "      <th>7</th>\n",
       "      <td>2014-08-27 11:52:41</td>\n",
       "      <td>Female</td>\n",
       "      <td>United States</td>\n",
       "      <td>Corporate</td>\n",
       "      <td>No</td>\n",
       "      <td>No</td>\n",
       "      <td>No</td>\n",
       "      <td>1-14 days</td>\n",
       "      <td>Yes</td>\n",
       "      <td>No</td>\n",
       "      <td>Yes</td>\n",
       "      <td>Medium</td>\n",
       "      <td>No</td>\n",
       "      <td>No</td>\n",
       "      <td>Yes</td>\n",
       "      <td>No</td>\n",
       "      <td>No</td>\n",
       "    </tr>\n",
       "  </tbody>\n",
       "</table>\n",
       "</div>"
      ],
      "text/plain": [
       "             Timestamp  Gender        Country Occupation self_employed  \\\n",
       "3  2014-08-27 11:37:59  Female  United States  Corporate            No   \n",
       "4  2014-08-27 11:43:36  Female  United States  Corporate            No   \n",
       "5  2014-08-27 11:49:51  Female         Poland  Corporate            No   \n",
       "6  2014-08-27 11:51:34  Female      Australia  Corporate            No   \n",
       "7  2014-08-27 11:52:41  Female  United States  Corporate            No   \n",
       "\n",
       "  family_history treatment Days_Indoors Growing_Stress Changes_Habits  \\\n",
       "3            Yes       Yes    1-14 days            Yes             No   \n",
       "4            Yes       Yes    1-14 days            Yes             No   \n",
       "5             No       Yes    1-14 days            Yes             No   \n",
       "6            Yes       Yes    1-14 days            Yes             No   \n",
       "7             No        No    1-14 days            Yes             No   \n",
       "\n",
       "  Mental_Health_History Mood_Swings Coping_Struggles Work_Interest  \\\n",
       "3                   Yes      Medium               No            No   \n",
       "4                   Yes      Medium               No            No   \n",
       "5                   Yes      Medium               No            No   \n",
       "6                   Yes      Medium               No            No   \n",
       "7                   Yes      Medium               No            No   \n",
       "\n",
       "  Social_Weakness mental_health_interview care_options  \n",
       "3             Yes                   Maybe          Yes  \n",
       "4             Yes                      No          Yes  \n",
       "5             Yes                   Maybe     Not sure  \n",
       "6             Yes                      No     Not sure  \n",
       "7             Yes                      No           No  "
      ]
     },
     "execution_count": 7,
     "metadata": {},
     "output_type": "execute_result"
    }
   ],
   "source": [
    "df.head() # dummifiying the categorical variable"
   ]
  },
  {
   "cell_type": "code",
   "execution_count": 8,
   "id": "d9aec88b",
   "metadata": {},
   "outputs": [],
   "source": [
    "df = pd.get_dummies(df , columns = ['Gender', 'Country' , 'Occupation' , 'self_employed' , 'family_history' , 'treatment', 'Days_Indoors', 'Growing_Stress' , 'Changes_Habits', 'Mood_Swings' , 'Coping_Struggles', 'Work_Interest', 'Social_Weakness','mental_health_interview', 'care_options' ], dtype = int )"
   ]
  },
  {
   "cell_type": "code",
   "execution_count": 9,
   "id": "03af6900",
   "metadata": {},
   "outputs": [
    {
     "data": {
      "text/html": [
       "<div>\n",
       "<style scoped>\n",
       "    .dataframe tbody tr th:only-of-type {\n",
       "        vertical-align: middle;\n",
       "    }\n",
       "\n",
       "    .dataframe tbody tr th {\n",
       "        vertical-align: top;\n",
       "    }\n",
       "\n",
       "    .dataframe thead th {\n",
       "        text-align: right;\n",
       "    }\n",
       "</style>\n",
       "<table border=\"1\" class=\"dataframe\">\n",
       "  <thead>\n",
       "    <tr style=\"text-align: right;\">\n",
       "      <th></th>\n",
       "      <th>Timestamp</th>\n",
       "      <th>Mental_Health_History</th>\n",
       "      <th>Gender_Female</th>\n",
       "      <th>Gender_Male</th>\n",
       "      <th>Country_Australia</th>\n",
       "      <th>Country_Belgium</th>\n",
       "      <th>Country_Bosnia and Herzegovina</th>\n",
       "      <th>Country_Brazil</th>\n",
       "      <th>Country_Canada</th>\n",
       "      <th>Country_Colombia</th>\n",
       "      <th>...</th>\n",
       "      <th>Work_Interest_Yes</th>\n",
       "      <th>Social_Weakness_Maybe</th>\n",
       "      <th>Social_Weakness_No</th>\n",
       "      <th>Social_Weakness_Yes</th>\n",
       "      <th>mental_health_interview_Maybe</th>\n",
       "      <th>mental_health_interview_No</th>\n",
       "      <th>mental_health_interview_Yes</th>\n",
       "      <th>care_options_No</th>\n",
       "      <th>care_options_Not sure</th>\n",
       "      <th>care_options_Yes</th>\n",
       "    </tr>\n",
       "  </thead>\n",
       "  <tbody>\n",
       "    <tr>\n",
       "      <th>3</th>\n",
       "      <td>2014-08-27 11:37:59</td>\n",
       "      <td>Yes</td>\n",
       "      <td>1</td>\n",
       "      <td>0</td>\n",
       "      <td>0</td>\n",
       "      <td>0</td>\n",
       "      <td>0</td>\n",
       "      <td>0</td>\n",
       "      <td>0</td>\n",
       "      <td>0</td>\n",
       "      <td>...</td>\n",
       "      <td>0</td>\n",
       "      <td>0</td>\n",
       "      <td>0</td>\n",
       "      <td>1</td>\n",
       "      <td>1</td>\n",
       "      <td>0</td>\n",
       "      <td>0</td>\n",
       "      <td>0</td>\n",
       "      <td>0</td>\n",
       "      <td>1</td>\n",
       "    </tr>\n",
       "    <tr>\n",
       "      <th>4</th>\n",
       "      <td>2014-08-27 11:43:36</td>\n",
       "      <td>Yes</td>\n",
       "      <td>1</td>\n",
       "      <td>0</td>\n",
       "      <td>0</td>\n",
       "      <td>0</td>\n",
       "      <td>0</td>\n",
       "      <td>0</td>\n",
       "      <td>0</td>\n",
       "      <td>0</td>\n",
       "      <td>...</td>\n",
       "      <td>0</td>\n",
       "      <td>0</td>\n",
       "      <td>0</td>\n",
       "      <td>1</td>\n",
       "      <td>0</td>\n",
       "      <td>1</td>\n",
       "      <td>0</td>\n",
       "      <td>0</td>\n",
       "      <td>0</td>\n",
       "      <td>1</td>\n",
       "    </tr>\n",
       "    <tr>\n",
       "      <th>5</th>\n",
       "      <td>2014-08-27 11:49:51</td>\n",
       "      <td>Yes</td>\n",
       "      <td>1</td>\n",
       "      <td>0</td>\n",
       "      <td>0</td>\n",
       "      <td>0</td>\n",
       "      <td>0</td>\n",
       "      <td>0</td>\n",
       "      <td>0</td>\n",
       "      <td>0</td>\n",
       "      <td>...</td>\n",
       "      <td>0</td>\n",
       "      <td>0</td>\n",
       "      <td>0</td>\n",
       "      <td>1</td>\n",
       "      <td>1</td>\n",
       "      <td>0</td>\n",
       "      <td>0</td>\n",
       "      <td>0</td>\n",
       "      <td>1</td>\n",
       "      <td>0</td>\n",
       "    </tr>\n",
       "    <tr>\n",
       "      <th>6</th>\n",
       "      <td>2014-08-27 11:51:34</td>\n",
       "      <td>Yes</td>\n",
       "      <td>1</td>\n",
       "      <td>0</td>\n",
       "      <td>1</td>\n",
       "      <td>0</td>\n",
       "      <td>0</td>\n",
       "      <td>0</td>\n",
       "      <td>0</td>\n",
       "      <td>0</td>\n",
       "      <td>...</td>\n",
       "      <td>0</td>\n",
       "      <td>0</td>\n",
       "      <td>0</td>\n",
       "      <td>1</td>\n",
       "      <td>0</td>\n",
       "      <td>1</td>\n",
       "      <td>0</td>\n",
       "      <td>0</td>\n",
       "      <td>1</td>\n",
       "      <td>0</td>\n",
       "    </tr>\n",
       "    <tr>\n",
       "      <th>7</th>\n",
       "      <td>2014-08-27 11:52:41</td>\n",
       "      <td>Yes</td>\n",
       "      <td>1</td>\n",
       "      <td>0</td>\n",
       "      <td>0</td>\n",
       "      <td>0</td>\n",
       "      <td>0</td>\n",
       "      <td>0</td>\n",
       "      <td>0</td>\n",
       "      <td>0</td>\n",
       "      <td>...</td>\n",
       "      <td>0</td>\n",
       "      <td>0</td>\n",
       "      <td>0</td>\n",
       "      <td>1</td>\n",
       "      <td>0</td>\n",
       "      <td>1</td>\n",
       "      <td>0</td>\n",
       "      <td>1</td>\n",
       "      <td>0</td>\n",
       "      <td>0</td>\n",
       "    </tr>\n",
       "  </tbody>\n",
       "</table>\n",
       "<p>5 rows × 78 columns</p>\n",
       "</div>"
      ],
      "text/plain": [
       "             Timestamp Mental_Health_History  Gender_Female  Gender_Male  \\\n",
       "3  2014-08-27 11:37:59                   Yes              1            0   \n",
       "4  2014-08-27 11:43:36                   Yes              1            0   \n",
       "5  2014-08-27 11:49:51                   Yes              1            0   \n",
       "6  2014-08-27 11:51:34                   Yes              1            0   \n",
       "7  2014-08-27 11:52:41                   Yes              1            0   \n",
       "\n",
       "   Country_Australia  Country_Belgium  Country_Bosnia and Herzegovina  \\\n",
       "3                  0                0                               0   \n",
       "4                  0                0                               0   \n",
       "5                  0                0                               0   \n",
       "6                  1                0                               0   \n",
       "7                  0                0                               0   \n",
       "\n",
       "   Country_Brazil  Country_Canada  Country_Colombia  ...  Work_Interest_Yes  \\\n",
       "3               0               0                 0  ...                  0   \n",
       "4               0               0                 0  ...                  0   \n",
       "5               0               0                 0  ...                  0   \n",
       "6               0               0                 0  ...                  0   \n",
       "7               0               0                 0  ...                  0   \n",
       "\n",
       "   Social_Weakness_Maybe  Social_Weakness_No  Social_Weakness_Yes  \\\n",
       "3                      0                   0                    1   \n",
       "4                      0                   0                    1   \n",
       "5                      0                   0                    1   \n",
       "6                      0                   0                    1   \n",
       "7                      0                   0                    1   \n",
       "\n",
       "   mental_health_interview_Maybe  mental_health_interview_No  \\\n",
       "3                              1                           0   \n",
       "4                              0                           1   \n",
       "5                              1                           0   \n",
       "6                              0                           1   \n",
       "7                              0                           1   \n",
       "\n",
       "   mental_health_interview_Yes  care_options_No  care_options_Not sure  \\\n",
       "3                            0                0                      0   \n",
       "4                            0                0                      0   \n",
       "5                            0                0                      1   \n",
       "6                            0                0                      1   \n",
       "7                            0                1                      0   \n",
       "\n",
       "   care_options_Yes  \n",
       "3                 1  \n",
       "4                 1  \n",
       "5                 0  \n",
       "6                 0  \n",
       "7                 0  \n",
       "\n",
       "[5 rows x 78 columns]"
      ]
     },
     "execution_count": 9,
     "metadata": {},
     "output_type": "execute_result"
    }
   ],
   "source": [
    "df.head()"
   ]
  },
  {
   "cell_type": "code",
   "execution_count": 10,
   "id": "3e3352b8",
   "metadata": {},
   "outputs": [],
   "source": [
    "df['Timestamp'] = pd.to_datetime(df['Timestamp']) #change date into numerical value so that it can be used in model.\n",
    "\n",
    "df['Timestamp_'] = df['Timestamp'].apply(lambda x: x.timestamp())"
   ]
  },
  {
   "cell_type": "code",
   "execution_count": 11,
   "id": "4805aa31",
   "metadata": {},
   "outputs": [],
   "source": [
    "df.drop('Timestamp', axis=1, inplace=True)"
   ]
  },
  {
   "cell_type": "code",
   "execution_count": 12,
   "id": "4950746e",
   "metadata": {},
   "outputs": [
    {
     "data": {
      "text/plain": [
       "Mental_Health_History\n",
       "No       102179\n",
       "Maybe     93664\n",
       "Yes       91319\n",
       "Name: count, dtype: int64"
      ]
     },
     "execution_count": 12,
     "metadata": {},
     "output_type": "execute_result"
    }
   ],
   "source": [
    "df['Mental_Health_History'].value_counts() # See the target variable"
   ]
  },
  {
   "cell_type": "markdown",
   "id": "38cef688",
   "metadata": {},
   "source": [
    "### Transforming / Engineering Data"
   ]
  },
  {
   "cell_type": "markdown",
   "id": "713e67a9",
   "metadata": {},
   "source": [
    "- Data transforming is done by observing the existence of missing value and looking at each of the column in the datasets on whether it is categorical or numerical."
   ]
  },
  {
   "cell_type": "markdown",
   "id": "10cbabc1",
   "metadata": {},
   "source": [
    "- Then use dropna to drop all the missing value and dummify to change categorical value into binary."
   ]
  },
  {
   "cell_type": "markdown",
   "id": "5794c480",
   "metadata": {},
   "source": [
    "- Change the data of timestamp from string into numerical for it to represent its value (time)"
   ]
  },
  {
   "cell_type": "markdown",
   "id": "d491e9c3",
   "metadata": {},
   "source": [
    "- Analyse the target variable and see what model or changes that need to be done to accomodate the target variable to be compatible"
   ]
  },
  {
   "cell_type": "markdown",
   "id": "addcb029",
   "metadata": {},
   "source": [
    "- Use label encoder to change the target variable data into something suitable to work properly in models"
   ]
  },
  {
   "cell_type": "markdown",
   "id": "c2c3a5ee",
   "metadata": {},
   "source": [
    "# Modeling"
   ]
  },
  {
   "cell_type": "code",
   "execution_count": 13,
   "id": "6c7a69e6",
   "metadata": {},
   "outputs": [],
   "source": [
    "X = df.drop(columns ='Mental_Health_History') # labeling the x and y to be used in train test split\n",
    "label_encoder = LabelEncoder()\n",
    "y = label_encoder.fit_transform(df['Mental_Health_History'])"
   ]
  },
  {
   "cell_type": "code",
   "execution_count": 14,
   "id": "a8b090f8",
   "metadata": {},
   "outputs": [],
   "source": [
    "X_train, X_test, y_train, y_test = train_test_split(X,\n",
    "                                                    y,\n",
    "                                                    test_size = 0.20,\n",
    "                                                    random_state = 42,\n",
    "                                                    stratify = y)"
   ]
  },
  {
   "cell_type": "markdown",
   "id": "6fe8636c",
   "metadata": {},
   "source": [
    "### Selecting models and optimizing hyperparameter"
   ]
  },
  {
   "cell_type": "markdown",
   "id": "61421394",
   "metadata": {},
   "source": [
    "-  Selecting the models and optimizing the hyperparameter is done by putting each model into a gridsearch to find the best perfomance model and the best set of hyperparameter among the listed models"
   ]
  },
  {
   "cell_type": "markdown",
   "id": "dce06a3e",
   "metadata": {},
   "source": [
    "- Computationally expensive models like svm is excluded because of long buffer time. Number of hyperparameter tested reduced is also for the same reason"
   ]
  },
  {
   "cell_type": "code",
   "execution_count": 15,
   "id": "f7e45811",
   "metadata": {},
   "outputs": [],
   "source": [
    "models = { #initializing the model classifier\n",
    "    'LogisticRegression': LogisticRegression(max_iter=1000, random_state=42),\n",
    "    'RidgeClassifier': RidgeClassifier(random_state=42),\n",
    "    'KNN': KNeighborsClassifier(),\n",
    "    'DecisionTree': DecisionTreeClassifier(random_state=42),\n",
    "    'RandomForest': RandomForestClassifier(random_state=42),\n",
    "\n",
    "}"
   ]
  },
  {
   "cell_type": "code",
   "execution_count": 16,
   "id": "b9ad6da4",
   "metadata": {},
   "outputs": [],
   "source": [
    "models_param = { # preparing the hyperparameter to be test\n",
    "    'LogisticRegression': {\n",
    "        'C': [0.1, 1, 10],\n",
    "        'solver': ['liblinear', 'saga']\n",
    "    },\n",
    "    'RidgeClassifier': {\n",
    "        'alpha': [0.1, 1, 10]\n",
    "    },\n",
    "    \n",
    "    'KNN': {\n",
    "        'n_neighbors': [3, 5, 7],\n",
    "        'weights': ['uniform', 'distance']\n",
    "    },\n",
    "    'DecisionTree': {\n",
    "        'max_depth': [None, 10, 20],\n",
    "        'min_samples_split': [2, 10, 20]\n",
    "    },\n",
    "    'RandomForest': {\n",
    "        'n_estimators': [10, 50, 100],\n",
    "        'max_depth': [None, 10, 20]\n",
    "} \n",
    "}"
   ]
  },
  {
   "cell_type": "code",
   "execution_count": 17,
   "id": "3b2b8cc7",
   "metadata": {},
   "outputs": [
    {
     "name": "stdout",
     "output_type": "stream",
     "text": [
      "Fitting 5 folds for each of 6 candidates, totalling 30 fits\n",
      "Best parameters for LogisticRegression: {'C': 0.1, 'solver': 'liblinear'}\n",
      "Best cross-validation score for LogisticRegression: 0.3558\n",
      "Model: LogisticRegression\n",
      "              precision    recall  f1-score   support\n",
      "\n",
      "           0       0.00      0.00      0.00     18733\n",
      "           1       0.36      1.00      0.52     20436\n",
      "           2       0.00      0.00      0.00     18264\n",
      "\n",
      "    accuracy                           0.36     57433\n",
      "   macro avg       0.12      0.33      0.17     57433\n",
      "weighted avg       0.13      0.36      0.19     57433\n",
      "\n",
      "Fitting 5 folds for each of 3 candidates, totalling 15 fits\n"
     ]
    },
    {
     "name": "stderr",
     "output_type": "stream",
     "text": [
      "C:\\Users\\redka\\anaconda3\\Lib\\site-packages\\sklearn\\metrics\\_classification.py:1344: UndefinedMetricWarning: Precision and F-score are ill-defined and being set to 0.0 in labels with no predicted samples. Use `zero_division` parameter to control this behavior.\n",
      "  _warn_prf(average, modifier, msg_start, len(result))\n",
      "C:\\Users\\redka\\anaconda3\\Lib\\site-packages\\sklearn\\metrics\\_classification.py:1344: UndefinedMetricWarning: Precision and F-score are ill-defined and being set to 0.0 in labels with no predicted samples. Use `zero_division` parameter to control this behavior.\n",
      "  _warn_prf(average, modifier, msg_start, len(result))\n",
      "C:\\Users\\redka\\anaconda3\\Lib\\site-packages\\sklearn\\metrics\\_classification.py:1344: UndefinedMetricWarning: Precision and F-score are ill-defined and being set to 0.0 in labels with no predicted samples. Use `zero_division` parameter to control this behavior.\n",
      "  _warn_prf(average, modifier, msg_start, len(result))\n",
      "C:\\Users\\redka\\anaconda3\\Lib\\site-packages\\sklearn\\linear_model\\_ridge.py:216: LinAlgWarning: Ill-conditioned matrix (rcond=2.74555e-20): result may not be accurate.\n",
      "  return linalg.solve(A, Xy, assume_a=\"pos\", overwrite_a=True).T\n",
      "C:\\Users\\redka\\anaconda3\\Lib\\site-packages\\sklearn\\linear_model\\_ridge.py:216: LinAlgWarning: Ill-conditioned matrix (rcond=2.70952e-20): result may not be accurate.\n",
      "  return linalg.solve(A, Xy, assume_a=\"pos\", overwrite_a=True).T\n",
      "C:\\Users\\redka\\anaconda3\\Lib\\site-packages\\sklearn\\linear_model\\_ridge.py:216: LinAlgWarning: Ill-conditioned matrix (rcond=2.72287e-20): result may not be accurate.\n",
      "  return linalg.solve(A, Xy, assume_a=\"pos\", overwrite_a=True).T\n",
      "C:\\Users\\redka\\anaconda3\\Lib\\site-packages\\sklearn\\linear_model\\_ridge.py:216: LinAlgWarning: Ill-conditioned matrix (rcond=2.68386e-20): result may not be accurate.\n",
      "  return linalg.solve(A, Xy, assume_a=\"pos\", overwrite_a=True).T\n",
      "C:\\Users\\redka\\anaconda3\\Lib\\site-packages\\sklearn\\linear_model\\_ridge.py:216: LinAlgWarning: Ill-conditioned matrix (rcond=2.73574e-20): result may not be accurate.\n",
      "  return linalg.solve(A, Xy, assume_a=\"pos\", overwrite_a=True).T\n",
      "C:\\Users\\redka\\anaconda3\\Lib\\site-packages\\sklearn\\linear_model\\_ridge.py:216: LinAlgWarning: Ill-conditioned matrix (rcond=2.74487e-19): result may not be accurate.\n",
      "  return linalg.solve(A, Xy, assume_a=\"pos\", overwrite_a=True).T\n",
      "C:\\Users\\redka\\anaconda3\\Lib\\site-packages\\sklearn\\linear_model\\_ridge.py:216: LinAlgWarning: Ill-conditioned matrix (rcond=2.70949e-19): result may not be accurate.\n",
      "  return linalg.solve(A, Xy, assume_a=\"pos\", overwrite_a=True).T\n",
      "C:\\Users\\redka\\anaconda3\\Lib\\site-packages\\sklearn\\linear_model\\_ridge.py:216: LinAlgWarning: Ill-conditioned matrix (rcond=2.72284e-19): result may not be accurate.\n",
      "  return linalg.solve(A, Xy, assume_a=\"pos\", overwrite_a=True).T\n",
      "C:\\Users\\redka\\anaconda3\\Lib\\site-packages\\sklearn\\linear_model\\_ridge.py:216: LinAlgWarning: Ill-conditioned matrix (rcond=2.68383e-19): result may not be accurate.\n",
      "  return linalg.solve(A, Xy, assume_a=\"pos\", overwrite_a=True).T\n",
      "C:\\Users\\redka\\anaconda3\\Lib\\site-packages\\sklearn\\linear_model\\_ridge.py:216: LinAlgWarning: Ill-conditioned matrix (rcond=2.73571e-19): result may not be accurate.\n",
      "  return linalg.solve(A, Xy, assume_a=\"pos\", overwrite_a=True).T\n",
      "C:\\Users\\redka\\anaconda3\\Lib\\site-packages\\sklearn\\linear_model\\_ridge.py:216: LinAlgWarning: Ill-conditioned matrix (rcond=2.73827e-18): result may not be accurate.\n",
      "  return linalg.solve(A, Xy, assume_a=\"pos\", overwrite_a=True).T\n",
      "C:\\Users\\redka\\anaconda3\\Lib\\site-packages\\sklearn\\linear_model\\_ridge.py:216: LinAlgWarning: Ill-conditioned matrix (rcond=2.70913e-18): result may not be accurate.\n",
      "  return linalg.solve(A, Xy, assume_a=\"pos\", overwrite_a=True).T\n",
      "C:\\Users\\redka\\anaconda3\\Lib\\site-packages\\sklearn\\linear_model\\_ridge.py:216: LinAlgWarning: Ill-conditioned matrix (rcond=2.72252e-18): result may not be accurate.\n",
      "  return linalg.solve(A, Xy, assume_a=\"pos\", overwrite_a=True).T\n",
      "C:\\Users\\redka\\anaconda3\\Lib\\site-packages\\sklearn\\linear_model\\_ridge.py:216: LinAlgWarning: Ill-conditioned matrix (rcond=2.6835e-18): result may not be accurate.\n",
      "  return linalg.solve(A, Xy, assume_a=\"pos\", overwrite_a=True).T\n",
      "C:\\Users\\redka\\anaconda3\\Lib\\site-packages\\sklearn\\linear_model\\_ridge.py:216: LinAlgWarning: Ill-conditioned matrix (rcond=2.73539e-18): result may not be accurate.\n",
      "  return linalg.solve(A, Xy, assume_a=\"pos\", overwrite_a=True).T\n",
      "C:\\Users\\redka\\anaconda3\\Lib\\site-packages\\sklearn\\linear_model\\_ridge.py:216: LinAlgWarning: Ill-conditioned matrix (rcond=2.17548e-20): result may not be accurate.\n",
      "  return linalg.solve(A, Xy, assume_a=\"pos\", overwrite_a=True).T\n"
     ]
    },
    {
     "name": "stdout",
     "output_type": "stream",
     "text": [
      "Best parameters for RidgeClassifier: {'alpha': 0.1}\n",
      "Best cross-validation score for RidgeClassifier: 0.4176\n",
      "Model: RidgeClassifier\n",
      "              precision    recall  f1-score   support\n",
      "\n",
      "           0       0.41      0.44      0.43     18733\n",
      "           1       0.41      0.49      0.45     20436\n",
      "           2       0.41      0.28      0.34     18264\n",
      "\n",
      "    accuracy                           0.41     57433\n",
      "   macro avg       0.41      0.41      0.40     57433\n",
      "weighted avg       0.41      0.41      0.41     57433\n",
      "\n",
      "Fitting 5 folds for each of 6 candidates, totalling 30 fits\n",
      "Best parameters for KNN: {'n_neighbors': 5, 'weights': 'uniform'}\n",
      "Best cross-validation score for KNN: 0.3338\n",
      "Model: KNN\n",
      "              precision    recall  f1-score   support\n",
      "\n",
      "           0       0.32      0.44      0.37     18733\n",
      "           1       0.36      0.37      0.37     20436\n",
      "           2       0.31      0.18      0.23     18264\n",
      "\n",
      "    accuracy                           0.33     57433\n",
      "   macro avg       0.33      0.33      0.32     57433\n",
      "weighted avg       0.33      0.33      0.32     57433\n",
      "\n",
      "Fitting 5 folds for each of 9 candidates, totalling 45 fits\n",
      "Best parameters for DecisionTree: {'max_depth': 20, 'min_samples_split': 20}\n",
      "Best cross-validation score for DecisionTree: 0.9827\n",
      "Model: DecisionTree\n",
      "              precision    recall  f1-score   support\n",
      "\n",
      "           0       0.99      0.98      0.99     18733\n",
      "           1       0.97      0.99      0.98     20436\n",
      "           2       0.99      0.97      0.98     18264\n",
      "\n",
      "    accuracy                           0.98     57433\n",
      "   macro avg       0.98      0.98      0.98     57433\n",
      "weighted avg       0.98      0.98      0.98     57433\n",
      "\n",
      "Fitting 5 folds for each of 9 candidates, totalling 45 fits\n",
      "Best parameters for RandomForest: {'max_depth': 10, 'n_estimators': 100}\n",
      "Best cross-validation score for RandomForest: 0.9845\n",
      "Model: RandomForest\n",
      "              precision    recall  f1-score   support\n",
      "\n",
      "           0       0.99      0.99      0.99     18733\n",
      "           1       0.98      0.99      0.99     20436\n",
      "           2       0.98      0.98      0.98     18264\n",
      "\n",
      "    accuracy                           0.98     57433\n",
      "   macro avg       0.98      0.98      0.98     57433\n",
      "weighted avg       0.98      0.98      0.98     57433\n",
      "\n"
     ]
    }
   ],
   "source": [
    "for name, model in models.items(): # use each of the model and its hyperparamter to be gridsearch\n",
    "    gridsearch = GridSearchCV(model , models_param[name],cv = 5 , verbose = 1)\n",
    "    gridsearch.fit(X_train, y_train)\n",
    "    best_model = gridsearch.best_estimator_\n",
    "    print(f\"Best parameters for {name}: {gridsearch.best_params_}\")\n",
    "    print(f\"Best cross-validation score for {name}: {gridsearch.best_score_:.4f}\")\n",
    "    y_pred = best_model.predict(X_test)\n",
    "    print(f\"Model: {name}\")\n",
    "    print(classification_report(y_test, y_pred))"
   ]
  },
  {
   "cell_type": "markdown",
   "id": "270dc93a",
   "metadata": {},
   "source": [
    "## Choosing Random Forest"
   ]
  },
  {
   "cell_type": "code",
   "execution_count": 16,
   "id": "21a6fe8b",
   "metadata": {},
   "outputs": [
    {
     "data": {
      "text/html": [
       "<style>#sk-container-id-1 {color: black;background-color: white;}#sk-container-id-1 pre{padding: 0;}#sk-container-id-1 div.sk-toggleable {background-color: white;}#sk-container-id-1 label.sk-toggleable__label {cursor: pointer;display: block;width: 100%;margin-bottom: 0;padding: 0.3em;box-sizing: border-box;text-align: center;}#sk-container-id-1 label.sk-toggleable__label-arrow:before {content: \"▸\";float: left;margin-right: 0.25em;color: #696969;}#sk-container-id-1 label.sk-toggleable__label-arrow:hover:before {color: black;}#sk-container-id-1 div.sk-estimator:hover label.sk-toggleable__label-arrow:before {color: black;}#sk-container-id-1 div.sk-toggleable__content {max-height: 0;max-width: 0;overflow: hidden;text-align: left;background-color: #f0f8ff;}#sk-container-id-1 div.sk-toggleable__content pre {margin: 0.2em;color: black;border-radius: 0.25em;background-color: #f0f8ff;}#sk-container-id-1 input.sk-toggleable__control:checked~div.sk-toggleable__content {max-height: 200px;max-width: 100%;overflow: auto;}#sk-container-id-1 input.sk-toggleable__control:checked~label.sk-toggleable__label-arrow:before {content: \"▾\";}#sk-container-id-1 div.sk-estimator input.sk-toggleable__control:checked~label.sk-toggleable__label {background-color: #d4ebff;}#sk-container-id-1 div.sk-label input.sk-toggleable__control:checked~label.sk-toggleable__label {background-color: #d4ebff;}#sk-container-id-1 input.sk-hidden--visually {border: 0;clip: rect(1px 1px 1px 1px);clip: rect(1px, 1px, 1px, 1px);height: 1px;margin: -1px;overflow: hidden;padding: 0;position: absolute;width: 1px;}#sk-container-id-1 div.sk-estimator {font-family: monospace;background-color: #f0f8ff;border: 1px dotted black;border-radius: 0.25em;box-sizing: border-box;margin-bottom: 0.5em;}#sk-container-id-1 div.sk-estimator:hover {background-color: #d4ebff;}#sk-container-id-1 div.sk-parallel-item::after {content: \"\";width: 100%;border-bottom: 1px solid gray;flex-grow: 1;}#sk-container-id-1 div.sk-label:hover label.sk-toggleable__label {background-color: #d4ebff;}#sk-container-id-1 div.sk-serial::before {content: \"\";position: absolute;border-left: 1px solid gray;box-sizing: border-box;top: 0;bottom: 0;left: 50%;z-index: 0;}#sk-container-id-1 div.sk-serial {display: flex;flex-direction: column;align-items: center;background-color: white;padding-right: 0.2em;padding-left: 0.2em;position: relative;}#sk-container-id-1 div.sk-item {position: relative;z-index: 1;}#sk-container-id-1 div.sk-parallel {display: flex;align-items: stretch;justify-content: center;background-color: white;position: relative;}#sk-container-id-1 div.sk-item::before, #sk-container-id-1 div.sk-parallel-item::before {content: \"\";position: absolute;border-left: 1px solid gray;box-sizing: border-box;top: 0;bottom: 0;left: 50%;z-index: -1;}#sk-container-id-1 div.sk-parallel-item {display: flex;flex-direction: column;z-index: 1;position: relative;background-color: white;}#sk-container-id-1 div.sk-parallel-item:first-child::after {align-self: flex-end;width: 50%;}#sk-container-id-1 div.sk-parallel-item:last-child::after {align-self: flex-start;width: 50%;}#sk-container-id-1 div.sk-parallel-item:only-child::after {width: 0;}#sk-container-id-1 div.sk-dashed-wrapped {border: 1px dashed gray;margin: 0 0.4em 0.5em 0.4em;box-sizing: border-box;padding-bottom: 0.4em;background-color: white;}#sk-container-id-1 div.sk-label label {font-family: monospace;font-weight: bold;display: inline-block;line-height: 1.2em;}#sk-container-id-1 div.sk-label-container {text-align: center;}#sk-container-id-1 div.sk-container {/* jupyter's `normalize.less` sets `[hidden] { display: none; }` but bootstrap.min.css set `[hidden] { display: none !important; }` so we also need the `!important` here to be able to override the default hidden behavior on the sphinx rendered scikit-learn.org. See: https://github.com/scikit-learn/scikit-learn/issues/21755 */display: inline-block !important;position: relative;}#sk-container-id-1 div.sk-text-repr-fallback {display: none;}</style><div id=\"sk-container-id-1\" class=\"sk-top-container\"><div class=\"sk-text-repr-fallback\"><pre>RandomForestClassifier(max_depth=10, random_state=42)</pre><b>In a Jupyter environment, please rerun this cell to show the HTML representation or trust the notebook. <br />On GitHub, the HTML representation is unable to render, please try loading this page with nbviewer.org.</b></div><div class=\"sk-container\" hidden><div class=\"sk-item\"><div class=\"sk-estimator sk-toggleable\"><input class=\"sk-toggleable__control sk-hidden--visually\" id=\"sk-estimator-id-1\" type=\"checkbox\" checked><label for=\"sk-estimator-id-1\" class=\"sk-toggleable__label sk-toggleable__label-arrow\">RandomForestClassifier</label><div class=\"sk-toggleable__content\"><pre>RandomForestClassifier(max_depth=10, random_state=42)</pre></div></div></div></div></div>"
      ],
      "text/plain": [
       "RandomForestClassifier(max_depth=10, random_state=42)"
      ]
     },
     "execution_count": 16,
     "metadata": {},
     "output_type": "execute_result"
    }
   ],
   "source": [
    "RandFor = RandomForestClassifier(max_depth = 10, n_estimators =  100 ,random_state=42 ) # Choose the best model from gridsearch\n",
    "RandFor.fit(X_train, y_train)"
   ]
  },
  {
   "cell_type": "markdown",
   "id": "0f5f445a",
   "metadata": {},
   "source": [
    "# Evaluation"
   ]
  },
  {
   "cell_type": "markdown",
   "id": "32384eca",
   "metadata": {},
   "source": [
    "## Random Forest"
   ]
  },
  {
   "cell_type": "code",
   "execution_count": 18,
   "id": "9ba4e9a1",
   "metadata": {},
   "outputs": [
    {
     "data": {
      "text/plain": [
       "array([0.36773284, 0.42630543, 0.35713539, 0.37844756, 0.34137763])"
      ]
     },
     "execution_count": 18,
     "metadata": {},
     "output_type": "execute_result"
    }
   ],
   "source": [
    "cross_val_score(RandFor, X, y, cv=5)# evaluating and finding all the relevance score of random forest"
   ]
  },
  {
   "cell_type": "code",
   "execution_count": 20,
   "id": "895edb1a",
   "metadata": {},
   "outputs": [],
   "source": [
    "y_pred = RandFor.predict(X_test)"
   ]
  },
  {
   "cell_type": "code",
   "execution_count": 21,
   "id": "d1f41e6e",
   "metadata": {},
   "outputs": [],
   "source": [
    "accuracy = accuracy_score(y_test, y_pred)\n",
    "report = classification_report(y_test, y_pred, target_names=label_encoder.classes_)"
   ]
  },
  {
   "cell_type": "code",
   "execution_count": 22,
   "id": "476a76ec",
   "metadata": {},
   "outputs": [
    {
     "data": {
      "text/plain": [
       "0.9849737955530793"
      ]
     },
     "execution_count": 22,
     "metadata": {},
     "output_type": "execute_result"
    }
   ],
   "source": [
    "accuracy"
   ]
  },
  {
   "cell_type": "code",
   "execution_count": 23,
   "id": "6b9620fb",
   "metadata": {},
   "outputs": [
    {
     "name": "stdout",
     "output_type": "stream",
     "text": [
      "              precision    recall  f1-score   support\n",
      "\n",
      "       Maybe       0.99      0.99      0.99     18733\n",
      "          No       0.98      0.99      0.99     20436\n",
      "         Yes       0.98      0.98      0.98     18264\n",
      "\n",
      "    accuracy                           0.98     57433\n",
      "   macro avg       0.98      0.98      0.98     57433\n",
      "weighted avg       0.98      0.98      0.98     57433\n",
      "\n"
     ]
    }
   ],
   "source": [
    "print(report)"
   ]
  },
  {
   "cell_type": "code",
   "execution_count": 24,
   "id": "dc63b77d",
   "metadata": {},
   "outputs": [],
   "source": [
    "train_score = RandFor.score(X_train, y_train)\n",
    "\n",
    "test_score = RandFor.score(X_test, y_test)"
   ]
  },
  {
   "cell_type": "code",
   "execution_count": 25,
   "id": "b3e318c7",
   "metadata": {},
   "outputs": [
    {
     "data": {
      "text/plain": [
       "0.9853610123232156"
      ]
     },
     "execution_count": 25,
     "metadata": {},
     "output_type": "execute_result"
    }
   ],
   "source": [
    "train_score # train test score shows minimal overfitting."
   ]
  },
  {
   "cell_type": "code",
   "execution_count": 26,
   "id": "2f137359",
   "metadata": {},
   "outputs": [
    {
     "data": {
      "text/plain": [
       "0.9849737955530793"
      ]
     },
     "execution_count": 26,
     "metadata": {},
     "output_type": "execute_result"
    }
   ],
   "source": [
    "test_score"
   ]
  },
  {
   "cell_type": "markdown",
   "id": "f5eb0dc9",
   "metadata": {},
   "source": [
    "### Minimizing false negative"
   ]
  },
  {
   "cell_type": "markdown",
   "id": "a52f8bb7",
   "metadata": {},
   "source": [
    "- Positive means has mental health problem and negative  mean does not have mental health problem. False negative someone that is predicted to not have mental health problem while actually he has. This is worse than false positive and should be prioritize. Thus minimizing false negative is a must. This can be done by having a high value of recall. "
   ]
  },
  {
   "cell_type": "markdown",
   "id": "3c5ea030",
   "metadata": {},
   "source": [
    "- The recall value for this model is 0.99 and 0.98 thus minimizing false negative is achieved"
   ]
  }
 ],
 "metadata": {
  "kernelspec": {
   "display_name": "Python 3 (ipykernel)",
   "language": "python",
   "name": "python3"
  },
  "language_info": {
   "codemirror_mode": {
    "name": "ipython",
    "version": 3
   },
   "file_extension": ".py",
   "mimetype": "text/x-python",
   "name": "python",
   "nbconvert_exporter": "python",
   "pygments_lexer": "ipython3",
   "version": "3.11.7"
  }
 },
 "nbformat": 4,
 "nbformat_minor": 5
}
