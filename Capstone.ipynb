{
 "cells": [
  {
   "cell_type": "markdown",
   "id": "0bb59c31",
   "metadata": {},
   "source": [
    "# Mental Health\n",
    "The topic that i has chosen is about mental health."
   ]
  },
  {
   "cell_type": "markdown",
   "id": "c57bb0ee",
   "metadata": {},
   "source": [
    "## Problem Statement\n",
    "\n",
    "Mental health challenges are a major global public health issue, affecting people of all ages and backgrounds. The rates of mental health disorders such as depression, anxiety, and bipolar disorder have risen significantly, driven by factors like social isolation, economic pressure, and the impact of the global pandemic. These conditions not only diminish individuals' quality of life but also impose a heavy economic burden due to healthcare expenses and lost productivity. Despite their seriousness, mental health issues often face inadequate funding and persistent stigma, resulting in limited access to essential care and support. Effective solutions require comprehensive strategies that include prevention, early intervention, and integrated care to enhance outcomes and reduce stigma.[1]"
   ]
  },
  {
   "cell_type": "markdown",
   "id": "3d756623",
   "metadata": {},
   "source": [
    "### Specific:\n",
    "-I plan to find the correlation between a person recent behaviour and their mental health.\n",
    "-I plan to use knn- neighbour or decision tree model to predict mental health history correlation with their recent behaviour. The accuracy and cross validation score is important as it needed to be high to prevent mistake in diagnosis.\n",
    "\n",
    "### Measurable:\n",
    "-The metric that i  will use are accuracy, precision and confusion matrix as the datasets obtained is a classification type.\n",
    "-The confusion matrix will be very important as in this case , the value of false positive and false negative need to be focused on and prioritize as its value can compromised the objective of this project.\n",
    "### Achievable:\n",
    "- I think with the amount of works that need to be done and the amount of time that is provided, the scope is appropriate.\n",
    "- I think the project is not too aggresive and not too easy but it lean toward being easy and doable. \n",
    "\n",
    "### Relevant:\n",
    "-With the rise in mental illness globally and the increase awareness of mental health , a lot of people will care about this project.\n",
    "-People should be interested as it can increase the quality of their daily life in term of mental health. If this model if perfected even more with more data we can detect mental health status of people.\n",
    "-It will help psychologist do their job more efficiently and increase the mental health of the whole country. This in turns will make their work and social life more productive. Producing a better environment for the country.\n",
    "### Time-bound:\n",
    "My deadline is at the beginning of next month."
   ]
  },
  {
   "cell_type": "markdown",
   "id": "af9baebf",
   "metadata": {},
   "source": [
    "### Proposed method and model.\n",
    "1. Define the problem definition\n",
    "2. Read the data and prepare the data. Understand the data.\n",
    "3. Do explatory data analysis (EDA)\n",
    "4. Prepare a list of possible model and  do a model selection\n",
    "5. After that do a model training\n",
    "6.Do a model evaluation to compare a better models.\n",
    "7. Do a finishing touch on the project."
   ]
  },
  {
   "cell_type": "markdown",
   "id": "fb6c7eb5",
   "metadata": {},
   "source": [
    "### Risk and assumption of data\n",
    "#### Risk\n",
    "-It might has technical risk such as scalability since the data file is relatively large.\n",
    "- It might have sampling bias.\n",
    "#### Assumptions.\n",
    "-The data is consistent.\n",
    "-That the feature selected and provided is relevance target variable\n"
   ]
  },
  {
   "cell_type": "markdown",
   "id": "e551362b",
   "metadata": {},
   "source": [
    " ### Initial goals and success matric\n",
    "- Find models that can predict someone mental health\n",
    "- A success if can help detect warning sign of bad mental health in a person so that we can have early prevention"
   ]
  },
  {
   "cell_type": "markdown",
   "id": "68524978",
   "metadata": {},
   "source": [
    "### Data Source Documentation\n",
    "#### Overview\n",
    "#### Dataset names - Mental health datasets.csv\n",
    "#### Sources - Kaggle\n",
    "#### Latest date of Collection - 1/2/2016"
   ]
  },
  {
   "cell_type": "markdown",
   "id": "035cd7bb",
   "metadata": {},
   "source": [
    "### Citation\n",
    "1. World Health Organization. (2021). \"Mental health and substance use.\" Retrieved from https://www.who.int/teams/mental-health-and-substance-use."
   ]
  },
  {
   "cell_type": "code",
   "execution_count": null,
   "id": "c16e9bbb",
   "metadata": {},
   "outputs": [],
   "source": []
  }
 ],
 "metadata": {
  "kernelspec": {
   "display_name": "Python 3 (ipykernel)",
   "language": "python",
   "name": "python3"
  },
  "language_info": {
   "codemirror_mode": {
    "name": "ipython",
    "version": 3
   },
   "file_extension": ".py",
   "mimetype": "text/x-python",
   "name": "python",
   "nbconvert_exporter": "python",
   "pygments_lexer": "ipython3",
   "version": "3.11.7"
  }
 },
 "nbformat": 4,
 "nbformat_minor": 5
}
